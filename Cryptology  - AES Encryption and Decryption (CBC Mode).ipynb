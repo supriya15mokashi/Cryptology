{
 "cells": [
  {
   "cell_type": "markdown",
   "metadata": {},
   "source": [
    "## <font color='green'>CMSC443 - Cryptology (Spring 2020) - Homework-1</font>\n",
    "### <font color='green'>Name - Supriya Mokashi (GL86654)</font>\n",
    "#### <font color='grey'>Problem - Use CBC mode of operation (using AES-128) to encrypt and decrypt a 256-bit string</font>\n"
   ]
  },
  {
   "cell_type": "code",
   "execution_count": 56,
   "metadata": {},
   "outputs": [],
   "source": [
    "# Step 1 - Import the required libraries and packages\n",
    "# AES - To create AES cipher and implement encryption and decryption\n",
    "# pad - To add standard padding to data\n",
    "# unpad - To remove standard padding from data\n",
    "# get_random_bytes - To create random byte string of desired length  \n",
    "\n",
    "import Crypto\n",
    "from Crypto.Cipher import AES\n",
    "from Crypto.Util.Padding import pad, unpad\n",
    "from Crypto.Random import get_random_bytes\n",
    "\n",
    "\n",
    "# Step 2 - Define a function that performs encryption,decryption & finds if M = M' or M != M'\n",
    "def Function_AES(plaintext):\n",
    "\n",
    "# Step 3 - Create 2 random byte strings of length 16 bytes each, one as a key and another one as an IV  \n",
    "    key = get_random_bytes(16)\n",
    "    iv = get_random_bytes(16)\n",
    "\n",
    "    \n",
    "# Step 4 - Print the Original Plaintext before performing any operation on it\n",
    "    print(\"1. Plain Text before Encryption (M) - \", plaintext)\n",
    "    print()\n",
    "    \n",
    "# Step 5 - Add padding to the original plaintext and Encrypt the padded data. Print the encrypted ciphertext\n",
    "    object1 = AES.new(key, AES.MODE_CBC, iv)\n",
    "    padded_plaintext = pad(plaintext, 32)\n",
    "    ciphertext = object1.encrypt(padded_plaintext)\n",
    "    print(\"2. Cipher Text (C) - \\n\\n\", ciphertext)\n",
    "    print()\n",
    "    \n",
    "# Step 6 - Decrypt the encrypted ciphertext and unpad the resulting plaintext. Print the decrypted plaintext\n",
    "    object2 = AES.new(key, AES.MODE_CBC, iv)\n",
    "    plaintext_1 = object2.decrypt(ciphertext)\n",
    "    unpadded_plaintext_1 = unpad(plaintext_1, 32)\n",
    "    print(\"\\n3. Plain Text after Decryption (M') - \",unpadded_plaintext_1)\n",
    "    print()\n",
    "    \n",
    "# Step 7 - Check if the Original plain text and Decrypted plain text are equal. If yes, print M = M' else, M != M'\n",
    "    if plaintext == unpadded_plaintext_1:\n",
    "        print(\"4. The original plain text M and the decrypted plain text M' are Equal (M = M')\")\n",
    "        print()\n",
    "    else:\n",
    "        print(\"4. The original plain text M and the decrypted plain text M' are not Equal (M != M')\")\n",
    "        print()\n",
    "    \n",
    "# Step 8 - Print length of all the variables used\n",
    "\n",
    "    key_len = len(key)\n",
    "    iv_len = len(iv)\n",
    "    plaintext_len = len(plaintext)\n",
    "    ciphertext_len = len(ciphertext)\n",
    "    plaintext1_len = len(unpadded_plaintext_1)\n",
    "    \n",
    "    print('5. Length of the Key used - ',(key_len*8),'bits')\n",
    "    print()\n",
    "    print('6. Length of the IV used - ',(iv_len*8),'bits')\n",
    "    print()\n",
    "    print('7. Length of the Original Plaintext - ',(plaintext_len*8),'bits')\n",
    "    print()\n",
    "    print('8. Length of the Ciphertext - ',(ciphertext_len*8),'bits')\n",
    "    print()\n",
    "    print('9. Length of the Decrypted Plain text - ',(plaintext1_len*8),'bits')\n",
    "    print()   "
   ]
  },
  {
   "cell_type": "code",
   "execution_count": 57,
   "metadata": {},
   "outputs": [
    {
     "name": "stdout",
     "output_type": "stream",
     "text": [
      "1. Plain Text before Encryption (M) -  b'ThereShallBeShowersOfBlessings!!'\n",
      "\n",
      "2. Cipher Text (C) - \n",
      "\n",
      " b']\\xfd\\x03\\x8b\\x0c\\nQ#M\\xc0Fh\\x0f\\xac\\xb5\"\\xd3\\x0c\\x82\\x89\\x0e6\\xf4\\xc70T\\xb8-q\\xe74\\x89\\x043\\xa9\\x83\\xcd\\xe9\\xa7\\x16q{\\xd1_\\x9e$\\t\\xa1\\x07\\xc9\\xe9X\\x84\\xaa\\xab7h\\xddu\\xe5W\\xfb\\xb6m'\n",
      "\n",
      "\n",
      "3. Plain Text after Decryption (M') -  b'ThereShallBeShowersOfBlessings!!'\n",
      "\n",
      "4. The original plain text M and the decrypted plain text M' are Equal (M = M')\n",
      "\n",
      "5. Length of the Key used -  128 bits\n",
      "\n",
      "6. Length of the IV used -  128 bits\n",
      "\n",
      "7. Length of the Original Plaintext -  256 bits\n",
      "\n",
      "8. Length of the Ciphertext -  512 bits\n",
      "\n",
      "9. Length of the Decrypted Plain text -  256 bits\n",
      "\n"
     ]
    }
   ],
   "source": [
    "# Step 9 - Call the defined function - Function_AES with 32 bytes plaintext as a parameter\n",
    "\n",
    "Function_AES(b'ThereShallBeShowersOfBlessings!!')"
   ]
  },
  {
   "cell_type": "markdown",
   "metadata": {},
   "source": [
    "##### <font color='green'>Note - I have used PyCryptodome - a python package. All modules are installed under the Crypto package & are working. Here is a proof - </font>"
   ]
  },
  {
   "cell_type": "code",
   "execution_count": 58,
   "metadata": {},
   "outputs": [
    {
     "name": "stdout",
     "output_type": "stream",
     "text": [
      " Version of the working Crypto Library - 3.9.7\n"
     ]
    }
   ],
   "source": [
    "print(\" Version of the working Crypto Library -\", str(Crypto.__version__))"
   ]
  },
  {
   "cell_type": "markdown",
   "metadata": {},
   "source": [
    "#### <font color='green'>References - </font>\n",
    "> 1. https://pycryptodome.readthedocs.io/en/latest/src/cipher/aes.html\n",
    "> 2. https://pycryptodome.readthedocs.io/en/latest/src/util/util.html\n",
    "> 3. https://pycryptodome.readthedocs.io/en/latest/src/random/random.html"
   ]
  }
 ],
 "metadata": {
  "kernelspec": {
   "display_name": "Python 3",
   "language": "python",
   "name": "python3"
  },
  "language_info": {
   "codemirror_mode": {
    "name": "ipython",
    "version": 3
   },
   "file_extension": ".py",
   "mimetype": "text/x-python",
   "name": "python",
   "nbconvert_exporter": "python",
   "pygments_lexer": "ipython3",
   "version": "3.7.4"
  }
 },
 "nbformat": 4,
 "nbformat_minor": 2
}
